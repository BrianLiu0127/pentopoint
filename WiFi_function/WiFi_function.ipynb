{
 "cells": [
  {
   "cell_type": "code",
   "execution_count": 1,
   "metadata": {},
   "outputs": [
    {
     "ename": "AttributeError",
     "evalue": "module 'numpy' has no attribute 'zero'",
     "output_type": "error",
     "traceback": [
      "\u001b[1;31m---------------------------------------------------------------------------\u001b[0m",
      "\u001b[1;31mAttributeError\u001b[0m                            Traceback (most recent call last)",
      "Cell \u001b[1;32mIn[1], line 25\u001b[0m\n\u001b[0;32m     21\u001b[0m     map_5G[\u001b[38;5;28mint\u001b[39m(data_5G[i, \u001b[38;5;241m0\u001b[39m]), \u001b[38;5;28mint\u001b[39m(data_5G[i, \u001b[38;5;241m1\u001b[39m]), \u001b[38;5;241m3\u001b[39m] \u001b[38;5;241m=\u001b[39m data_5G[i, \u001b[38;5;241m5\u001b[39m]\n\u001b[0;32m     23\u001b[0m \u001b[38;5;66;03m### function part\u001b[39;00m\n\u001b[0;32m     24\u001b[0m \u001b[38;5;28;01mdef\u001b[39;00m \u001b[38;5;21mWiFi_position\u001b[39m(map_24G, map_5G,\n\u001b[1;32m---> 25\u001b[0m         RSSI_24G \u001b[38;5;241m=\u001b[39m \u001b[43mnp\u001b[49m\u001b[38;5;241;43m.\u001b[39;49m\u001b[43mzero\u001b[49m([\u001b[38;5;241m4\u001b[39m, \u001b[38;5;241m1\u001b[39m]), RSSI_5G \u001b[38;5;241m=\u001b[39m np\u001b[38;5;241m.\u001b[39mzero([\u001b[38;5;241m4\u001b[39m, \u001b[38;5;241m1\u001b[39m])):\n\u001b[0;32m     27\u001b[0m     error_map \u001b[38;5;241m=\u001b[39m np\u001b[38;5;241m.\u001b[39mzeros([\u001b[38;5;241m31\u001b[39m, \u001b[38;5;241m31\u001b[39m], dtype\u001b[38;5;241m=\u001b[39m\u001b[38;5;28mfloat\u001b[39m)\n\u001b[0;32m     28\u001b[0m     \u001b[38;5;28;01mfor\u001b[39;00m i \u001b[38;5;129;01min\u001b[39;00m \u001b[38;5;28mrange\u001b[39m(\u001b[38;5;241m31\u001b[39m):\n",
      "File \u001b[1;32mc:\\Users\\user\\miniconda3\\Lib\\site-packages\\numpy\\__init__.py:328\u001b[0m, in \u001b[0;36m__getattr__\u001b[1;34m(attr)\u001b[0m\n\u001b[0;32m    325\u001b[0m     \u001b[38;5;124m\"\u001b[39m\u001b[38;5;124mRemoved in NumPy 1.25.0\u001b[39m\u001b[38;5;124m\"\u001b[39m\n\u001b[0;32m    326\u001b[0m     \u001b[38;5;28;01mraise\u001b[39;00m \u001b[38;5;167;01mRuntimeError\u001b[39;00m(\u001b[38;5;124m\"\u001b[39m\u001b[38;5;124mTester was removed in NumPy 1.25.\u001b[39m\u001b[38;5;124m\"\u001b[39m)\n\u001b[1;32m--> 328\u001b[0m \u001b[38;5;28;01mraise\u001b[39;00m \u001b[38;5;167;01mAttributeError\u001b[39;00m(\u001b[38;5;124m\"\u001b[39m\u001b[38;5;124mmodule \u001b[39m\u001b[38;5;132;01m{!r}\u001b[39;00m\u001b[38;5;124m has no attribute \u001b[39m\u001b[38;5;124m\"\u001b[39m\n\u001b[0;32m    329\u001b[0m                      \u001b[38;5;124m\"\u001b[39m\u001b[38;5;132;01m{!r}\u001b[39;00m\u001b[38;5;124m\"\u001b[39m\u001b[38;5;241m.\u001b[39mformat(\u001b[38;5;18m__name__\u001b[39m, attr))\n",
      "\u001b[1;31mAttributeError\u001b[0m: module 'numpy' has no attribute 'zero'"
     ]
    }
   ],
   "source": [
    "import numpy as np\n",
    "import pandas as pd\n",
    "\n",
    "### heatmap initialization\n",
    "file_path = '../WiFi_2.4G.csv'    # file path need to be changed\n",
    "data_24G = pd.read_csv(file_path).values\n",
    "map_24G = np.zeros([31, 31, 4], dtype=float)\n",
    "for i in range(len(data_24G)):\n",
    "    map_24G[int(data_24G[i, 0]), int(data_24G[i, 1]), 0] = data_24G[i, 2]\n",
    "    map_24G[int(data_24G[i, 0]), int(data_24G[i, 1]), 1] = data_24G[i, 3]\n",
    "    map_24G[int(data_24G[i, 0]), int(data_24G[i, 1]), 2] = data_24G[i, 4]\n",
    "    map_24G[int(data_24G[i, 0]), int(data_24G[i, 1]), 3] = data_24G[i, 5]\n",
    "\n",
    "file_path = '../WiFi_5G.csv'    # file path need to be changed\n",
    "data_5G = pd.read_csv(file_path).values\n",
    "map_5G = np.zeros([31, 31, 4], dtype=float)\n",
    "for i in range(len(data_5G)):\n",
    "    map_5G[int(data_5G[i, 0]), int(data_5G[i, 1]), 0] = data_5G[i, 2]\n",
    "    map_5G[int(data_5G[i, 0]), int(data_5G[i, 1]), 1] = data_5G[i, 3]\n",
    "    map_5G[int(data_5G[i, 0]), int(data_5G[i, 1]), 2] = data_5G[i, 4]\n",
    "    map_5G[int(data_5G[i, 0]), int(data_5G[i, 1]), 3] = data_5G[i, 5]\n",
    "\n",
    "### function part\n",
    "def WiFi_position(map_24G, map_5G,\n",
    "        RSSI_24G = np.zero([4, 1]), RSSI_5G = np.zero([4, 1])):\n",
    "\n",
    "    error_map = np.zeros([31, 31], dtype=float)\n",
    "    for i in range(31):\n",
    "        for j in range(31):\n",
    "            for k in range(4):\n",
    "                error_map[i, j] += abs(RSSI_24G[k] - map_24G[i, j, k])\n",
    "                error_map[i, j] += abs(RSSI_5G[k] - map_5G[i, j, k])\n",
    "    temp = np.where(error_map == np.min(error_map))\n",
    "    return [temp[0][0], temp[1][0]]"
   ]
  }
 ],
 "metadata": {
  "kernelspec": {
   "display_name": "Python 3",
   "language": "python",
   "name": "python3"
  },
  "language_info": {
   "codemirror_mode": {
    "name": "ipython",
    "version": 3
   },
   "file_extension": ".py",
   "mimetype": "text/x-python",
   "name": "python",
   "nbconvert_exporter": "python",
   "pygments_lexer": "ipython3",
   "version": "3.11.4"
  }
 },
 "nbformat": 4,
 "nbformat_minor": 2
}
